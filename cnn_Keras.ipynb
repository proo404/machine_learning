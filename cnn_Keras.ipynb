{
  "nbformat": 4,
  "nbformat_minor": 0,
  "metadata": {
    "colab": {
      "name": "labExp_Keras.ipynb",
      "provenance": [],
      "collapsed_sections": []
    },
    "kernelspec": {
      "name": "python3",
      "display_name": "Python 3"
    },
    "language_info": {
      "name": "python"
    }
  },
  "cells": [
    {
      "cell_type": "code",
      "execution_count": null,
      "metadata": {
        "id": "DspL3sBpsocA"
      },
      "outputs": [],
      "source": [
        "#load packages and modules\n",
        "import keras\n",
        "from keras.datasets import mnist\n",
        "from keras.models import Sequential\n",
        "from keras.layers import Dense\n",
        "from tensorflow.keras.optimizers import SGD\n",
        "from matplotlib import pyplot as plt"
      ]
    },
    {
      "cell_type": "code",
      "source": [
        "#load data\n",
        "(X_train,Y_train),(X_valid,Y_valid) = mnist.load_data()"
      ],
      "metadata": {
        "colab": {
          "base_uri": "https://localhost:8080/"
        },
        "id": "r_2GTYmls9ZY",
        "outputId": "13d8e3d7-c846-4958-87b6-3073be6e6135"
      },
      "execution_count": null,
      "outputs": [
        {
          "output_type": "stream",
          "name": "stdout",
          "text": [
            "Downloading data from https://storage.googleapis.com/tensorflow/tf-keras-datasets/mnist.npz\n",
            "11493376/11490434 [==============================] - 0s 0us/step\n",
            "11501568/11490434 [==============================] - 0s 0us/step\n"
          ]
        }
      ]
    },
    {
      "cell_type": "code",
      "source": [
        "#preprocessing the data\n",
        "X_train =X_train .reshape(60000,784).astype('float32')\n",
        "X_valid =X_valid .reshape(10000,784).astype('float32')"
      ],
      "metadata": {
        "id": "3J_HfdDEtA-U"
      },
      "execution_count": null,
      "outputs": []
    },
    {
      "cell_type": "code",
      "source": [
        "#normalization\n",
        "X_train /=255\n",
        "X_valid /=255"
      ],
      "metadata": {
        "id": "OkLjMxs5tDNx"
      },
      "execution_count": null,
      "outputs": []
    },
    {
      "cell_type": "code",
      "source": [
        "X_valid[0]"
      ],
      "metadata": {
        "id": "3cvnJkL7ut24"
      },
      "execution_count": null,
      "outputs": []
    },
    {
      "cell_type": "code",
      "source": [
        "#convert the labels to one hot representation.\n",
        "from keras import utils as np_utils\n",
        "n_classes=10\n",
        "Y_train=keras.utils.np_utils.to_categorical(Y_train,n_classes)\n",
        "Y_valid=keras.utils.np_utils.to_categorical(Y_valid,n_classes)"
      ],
      "metadata": {
        "id": "ysCw_w38uw3y"
      },
      "execution_count": null,
      "outputs": []
    },
    {
      "cell_type": "code",
      "source": [
        "Y_valid[0]"
      ],
      "metadata": {
        "colab": {
          "base_uri": "https://localhost:8080/"
        },
        "id": "tfe4MTfxu0uU",
        "outputId": "76ba7921-9f90-4431-fb83-c9fa1553f3fb"
      },
      "execution_count": null,
      "outputs": [
        {
          "output_type": "execute_result",
          "data": {
            "text/plain": [
              "array([0., 0., 0., 0., 0., 0., 0., 1., 0., 0.], dtype=float32)"
            ]
          },
          "metadata": {},
          "execution_count": 7
        }
      ]
    },
    {
      "cell_type": "code",
      "source": [
        "#Defining the model\n",
        "model=Sequential()\n"
      ],
      "metadata": {
        "id": "I4Oh5OjBu3GJ"
      },
      "execution_count": null,
      "outputs": []
    },
    {
      "cell_type": "code",
      "source": [
        "#Adding dense layer\n",
        "model.add(Dense(64,activation='sigmoid',input_shape=(784,)))"
      ],
      "metadata": {
        "id": "Kh71E4n7u6LZ"
      },
      "execution_count": null,
      "outputs": []
    },
    {
      "cell_type": "code",
      "source": [
        "#Adding the final layer\n",
        "model.add(Dense(10,activation='softmax'))"
      ],
      "metadata": {
        "id": "RruIngP2u-Oz"
      },
      "execution_count": null,
      "outputs": []
    },
    {
      "cell_type": "code",
      "source": [
        "model.summary()"
      ],
      "metadata": {
        "colab": {
          "base_uri": "https://localhost:8080/"
        },
        "id": "7xMxNE9ovCyI",
        "outputId": "e861654e-ae0e-410c-9a34-4c7eaedd1853"
      },
      "execution_count": null,
      "outputs": [
        {
          "output_type": "stream",
          "name": "stdout",
          "text": [
            "Model: \"sequential\"\n",
            "_________________________________________________________________\n",
            " Layer (type)                Output Shape              Param #   \n",
            "=================================================================\n",
            " dense (Dense)               (None, 64)                50240     \n",
            "                                                                 \n",
            " dense_1 (Dense)             (None, 10)                650       \n",
            "                                                                 \n",
            "=================================================================\n",
            "Total params: 50,890\n",
            "Trainable params: 50,890\n",
            "Non-trainable params: 0\n",
            "_________________________________________________________________\n"
          ]
        }
      ]
    },
    {
      "cell_type": "code",
      "source": [
        "#compile the network\n",
        "model.compile(loss='mean_squared_error',optimizer=SGD(learning_rate=0.01),metrics=['accuracy'])"
      ],
      "metadata": {
        "id": "iCyTqw_qvNXx"
      },
      "execution_count": null,
      "outputs": []
    },
    {
      "cell_type": "code",
      "source": [
        "#train\n",
        "history=model.fit(X_train,Y_train,batch_size=128,epochs=150,verbose=1)"
      ],
      "metadata": {
        "colab": {
          "base_uri": "https://localhost:8080/"
        },
        "id": "YibkIUaDvSOh",
        "outputId": "48ed5036-1cce-4456-9fdd-00409fa58405"
      },
      "execution_count": null,
      "outputs": [
        {
          "output_type": "stream",
          "name": "stdout",
          "text": [
            "Epoch 1/150\n",
            "469/469 [==============================] - 2s 3ms/step - loss: 0.0925 - accuracy: 0.1117\n",
            "Epoch 2/150\n",
            "469/469 [==============================] - 1s 3ms/step - loss: 0.0911 - accuracy: 0.1295\n",
            "Epoch 3/150\n",
            "469/469 [==============================] - 1s 3ms/step - loss: 0.0903 - accuracy: 0.1486\n",
            "Epoch 4/150\n",
            "469/469 [==============================] - 1s 3ms/step - loss: 0.0897 - accuracy: 0.1829\n",
            "Epoch 5/150\n",
            "469/469 [==============================] - 1s 3ms/step - loss: 0.0892 - accuracy: 0.2145\n",
            "Epoch 6/150\n",
            "469/469 [==============================] - 1s 3ms/step - loss: 0.0889 - accuracy: 0.2390\n",
            "Epoch 7/150\n",
            "469/469 [==============================] - 1s 3ms/step - loss: 0.0886 - accuracy: 0.2576\n",
            "Epoch 8/150\n",
            "469/469 [==============================] - 1s 3ms/step - loss: 0.0883 - accuracy: 0.2727\n",
            "Epoch 9/150\n",
            "469/469 [==============================] - 1s 3ms/step - loss: 0.0880 - accuracy: 0.2887\n",
            "Epoch 10/150\n",
            "469/469 [==============================] - 1s 2ms/step - loss: 0.0877 - accuracy: 0.3085\n",
            "Epoch 11/150\n",
            "469/469 [==============================] - 1s 3ms/step - loss: 0.0874 - accuracy: 0.3273\n",
            "Epoch 12/150\n",
            "469/469 [==============================] - 1s 3ms/step - loss: 0.0871 - accuracy: 0.3465\n",
            "Epoch 13/150\n",
            "469/469 [==============================] - 1s 3ms/step - loss: 0.0868 - accuracy: 0.3614\n",
            "Epoch 14/150\n",
            "469/469 [==============================] - 1s 3ms/step - loss: 0.0865 - accuracy: 0.3738\n",
            "Epoch 15/150\n",
            "469/469 [==============================] - 1s 3ms/step - loss: 0.0862 - accuracy: 0.3841\n",
            "Epoch 16/150\n",
            "469/469 [==============================] - 1s 3ms/step - loss: 0.0859 - accuracy: 0.3923\n",
            "Epoch 17/150\n",
            "469/469 [==============================] - 1s 3ms/step - loss: 0.0856 - accuracy: 0.4020\n",
            "Epoch 18/150\n",
            "469/469 [==============================] - 1s 3ms/step - loss: 0.0853 - accuracy: 0.4085\n",
            "Epoch 19/150\n",
            "469/469 [==============================] - 1s 3ms/step - loss: 0.0850 - accuracy: 0.4128\n",
            "Epoch 20/150\n",
            "469/469 [==============================] - 1s 3ms/step - loss: 0.0847 - accuracy: 0.4182\n",
            "Epoch 21/150\n",
            "469/469 [==============================] - 1s 3ms/step - loss: 0.0843 - accuracy: 0.4229\n",
            "Epoch 22/150\n",
            "469/469 [==============================] - 1s 3ms/step - loss: 0.0840 - accuracy: 0.4272\n",
            "Epoch 23/150\n",
            "469/469 [==============================] - 1s 3ms/step - loss: 0.0836 - accuracy: 0.4304\n",
            "Epoch 24/150\n",
            "469/469 [==============================] - 1s 3ms/step - loss: 0.0833 - accuracy: 0.4344\n",
            "Epoch 25/150\n",
            "469/469 [==============================] - 1s 3ms/step - loss: 0.0829 - accuracy: 0.4369\n",
            "Epoch 26/150\n",
            "469/469 [==============================] - 1s 3ms/step - loss: 0.0825 - accuracy: 0.4417\n",
            "Epoch 27/150\n",
            "469/469 [==============================] - 1s 3ms/step - loss: 0.0821 - accuracy: 0.4461\n",
            "Epoch 28/150\n",
            "469/469 [==============================] - 1s 3ms/step - loss: 0.0817 - accuracy: 0.4499\n",
            "Epoch 29/150\n",
            "469/469 [==============================] - 1s 3ms/step - loss: 0.0813 - accuracy: 0.4545\n",
            "Epoch 30/150\n",
            "469/469 [==============================] - 1s 3ms/step - loss: 0.0809 - accuracy: 0.4593\n",
            "Epoch 31/150\n",
            "469/469 [==============================] - 1s 3ms/step - loss: 0.0804 - accuracy: 0.4625\n",
            "Epoch 32/150\n",
            "469/469 [==============================] - 1s 3ms/step - loss: 0.0800 - accuracy: 0.4682\n",
            "Epoch 33/150\n",
            "469/469 [==============================] - 1s 3ms/step - loss: 0.0796 - accuracy: 0.4732\n",
            "Epoch 34/150\n",
            "469/469 [==============================] - 1s 3ms/step - loss: 0.0791 - accuracy: 0.4760\n",
            "Epoch 35/150\n",
            "469/469 [==============================] - 1s 3ms/step - loss: 0.0787 - accuracy: 0.4815\n",
            "Epoch 36/150\n",
            "469/469 [==============================] - 1s 3ms/step - loss: 0.0782 - accuracy: 0.4863\n",
            "Epoch 37/150\n",
            "469/469 [==============================] - 1s 3ms/step - loss: 0.0777 - accuracy: 0.4915\n",
            "Epoch 38/150\n",
            "469/469 [==============================] - 1s 3ms/step - loss: 0.0773 - accuracy: 0.4959\n",
            "Epoch 39/150\n",
            "469/469 [==============================] - 1s 3ms/step - loss: 0.0768 - accuracy: 0.5009\n",
            "Epoch 40/150\n",
            "469/469 [==============================] - 1s 3ms/step - loss: 0.0763 - accuracy: 0.5050\n",
            "Epoch 41/150\n",
            "469/469 [==============================] - 1s 3ms/step - loss: 0.0758 - accuracy: 0.5102\n",
            "Epoch 42/150\n",
            "469/469 [==============================] - 1s 3ms/step - loss: 0.0753 - accuracy: 0.5155\n",
            "Epoch 43/150\n",
            "469/469 [==============================] - 1s 3ms/step - loss: 0.0748 - accuracy: 0.5191\n",
            "Epoch 44/150\n",
            "469/469 [==============================] - 1s 3ms/step - loss: 0.0743 - accuracy: 0.5239\n",
            "Epoch 45/150\n",
            "469/469 [==============================] - 1s 3ms/step - loss: 0.0738 - accuracy: 0.5290\n",
            "Epoch 46/150\n",
            "469/469 [==============================] - 1s 3ms/step - loss: 0.0733 - accuracy: 0.5344\n",
            "Epoch 47/150\n",
            "469/469 [==============================] - 1s 3ms/step - loss: 0.0728 - accuracy: 0.5398\n",
            "Epoch 48/150\n",
            "469/469 [==============================] - 1s 3ms/step - loss: 0.0723 - accuracy: 0.5448\n",
            "Epoch 49/150\n",
            "469/469 [==============================] - 1s 3ms/step - loss: 0.0718 - accuracy: 0.5494\n",
            "Epoch 50/150\n",
            "469/469 [==============================] - 1s 3ms/step - loss: 0.0712 - accuracy: 0.5535\n",
            "Epoch 51/150\n",
            "469/469 [==============================] - 1s 3ms/step - loss: 0.0707 - accuracy: 0.5591\n",
            "Epoch 52/150\n",
            "469/469 [==============================] - 1s 3ms/step - loss: 0.0702 - accuracy: 0.5642\n",
            "Epoch 53/150\n",
            "469/469 [==============================] - 1s 3ms/step - loss: 0.0697 - accuracy: 0.5689\n",
            "Epoch 54/150\n",
            "469/469 [==============================] - 1s 3ms/step - loss: 0.0692 - accuracy: 0.5736\n",
            "Epoch 55/150\n",
            "469/469 [==============================] - 1s 3ms/step - loss: 0.0687 - accuracy: 0.5777\n",
            "Epoch 56/150\n",
            "469/469 [==============================] - 1s 3ms/step - loss: 0.0681 - accuracy: 0.5826\n",
            "Epoch 57/150\n",
            "469/469 [==============================] - 1s 3ms/step - loss: 0.0676 - accuracy: 0.5871\n",
            "Epoch 58/150\n",
            "469/469 [==============================] - 1s 3ms/step - loss: 0.0671 - accuracy: 0.5918\n",
            "Epoch 59/150\n",
            "469/469 [==============================] - 1s 3ms/step - loss: 0.0666 - accuracy: 0.5979\n",
            "Epoch 60/150\n",
            "469/469 [==============================] - 1s 3ms/step - loss: 0.0661 - accuracy: 0.6014\n",
            "Epoch 61/150\n",
            "469/469 [==============================] - 1s 3ms/step - loss: 0.0656 - accuracy: 0.6062\n",
            "Epoch 62/150\n",
            "469/469 [==============================] - 1s 3ms/step - loss: 0.0651 - accuracy: 0.6114\n",
            "Epoch 63/150\n",
            "469/469 [==============================] - 1s 3ms/step - loss: 0.0645 - accuracy: 0.6160\n",
            "Epoch 64/150\n",
            "469/469 [==============================] - 1s 3ms/step - loss: 0.0640 - accuracy: 0.6199\n",
            "Epoch 65/150\n",
            "469/469 [==============================] - 1s 3ms/step - loss: 0.0635 - accuracy: 0.6242\n",
            "Epoch 66/150\n",
            "469/469 [==============================] - 2s 4ms/step - loss: 0.0630 - accuracy: 0.6289\n",
            "Epoch 67/150\n",
            "469/469 [==============================] - 2s 3ms/step - loss: 0.0626 - accuracy: 0.6326\n",
            "Epoch 68/150\n",
            "469/469 [==============================] - 1s 3ms/step - loss: 0.0621 - accuracy: 0.6366\n",
            "Epoch 69/150\n",
            "469/469 [==============================] - 1s 3ms/step - loss: 0.0616 - accuracy: 0.6409\n",
            "Epoch 70/150\n",
            "469/469 [==============================] - 1s 3ms/step - loss: 0.0611 - accuracy: 0.6450\n",
            "Epoch 71/150\n",
            "469/469 [==============================] - 1s 3ms/step - loss: 0.0606 - accuracy: 0.6489\n",
            "Epoch 72/150\n",
            "469/469 [==============================] - 1s 3ms/step - loss: 0.0601 - accuracy: 0.6531\n",
            "Epoch 73/150\n",
            "469/469 [==============================] - 1s 3ms/step - loss: 0.0597 - accuracy: 0.6555\n",
            "Epoch 74/150\n",
            "469/469 [==============================] - 1s 3ms/step - loss: 0.0592 - accuracy: 0.6596\n",
            "Epoch 75/150\n",
            "469/469 [==============================] - 1s 3ms/step - loss: 0.0587 - accuracy: 0.6633\n",
            "Epoch 76/150\n",
            "469/469 [==============================] - 1s 3ms/step - loss: 0.0583 - accuracy: 0.6670\n",
            "Epoch 77/150\n",
            "469/469 [==============================] - 1s 3ms/step - loss: 0.0578 - accuracy: 0.6719\n",
            "Epoch 78/150\n",
            "469/469 [==============================] - 1s 3ms/step - loss: 0.0573 - accuracy: 0.6749\n",
            "Epoch 79/150\n",
            "469/469 [==============================] - 1s 3ms/step - loss: 0.0569 - accuracy: 0.6785\n",
            "Epoch 80/150\n",
            "469/469 [==============================] - 1s 3ms/step - loss: 0.0565 - accuracy: 0.6832\n",
            "Epoch 81/150\n",
            "469/469 [==============================] - 1s 3ms/step - loss: 0.0560 - accuracy: 0.6869\n",
            "Epoch 82/150\n",
            "469/469 [==============================] - 1s 3ms/step - loss: 0.0556 - accuracy: 0.6908\n",
            "Epoch 83/150\n",
            "469/469 [==============================] - 1s 3ms/step - loss: 0.0551 - accuracy: 0.6948\n",
            "Epoch 84/150\n",
            "469/469 [==============================] - 1s 3ms/step - loss: 0.0547 - accuracy: 0.6986\n",
            "Epoch 85/150\n",
            "469/469 [==============================] - 1s 3ms/step - loss: 0.0543 - accuracy: 0.7018\n",
            "Epoch 86/150\n",
            "469/469 [==============================] - 1s 3ms/step - loss: 0.0539 - accuracy: 0.7056\n",
            "Epoch 87/150\n",
            "469/469 [==============================] - 1s 3ms/step - loss: 0.0535 - accuracy: 0.7089\n",
            "Epoch 88/150\n",
            "469/469 [==============================] - 1s 3ms/step - loss: 0.0531 - accuracy: 0.7123\n",
            "Epoch 89/150\n",
            "469/469 [==============================] - 1s 3ms/step - loss: 0.0527 - accuracy: 0.7165\n",
            "Epoch 90/150\n",
            "469/469 [==============================] - 1s 3ms/step - loss: 0.0523 - accuracy: 0.7192\n",
            "Epoch 91/150\n",
            "469/469 [==============================] - 1s 3ms/step - loss: 0.0519 - accuracy: 0.7229\n",
            "Epoch 92/150\n",
            "469/469 [==============================] - 1s 3ms/step - loss: 0.0515 - accuracy: 0.7254\n",
            "Epoch 93/150\n",
            "469/469 [==============================] - 1s 3ms/step - loss: 0.0511 - accuracy: 0.7295\n",
            "Epoch 94/150\n",
            "469/469 [==============================] - 1s 3ms/step - loss: 0.0507 - accuracy: 0.7322\n",
            "Epoch 95/150\n",
            "469/469 [==============================] - 1s 3ms/step - loss: 0.0504 - accuracy: 0.7350\n",
            "Epoch 96/150\n",
            "469/469 [==============================] - 1s 3ms/step - loss: 0.0500 - accuracy: 0.7372\n",
            "Epoch 97/150\n",
            "469/469 [==============================] - 1s 3ms/step - loss: 0.0496 - accuracy: 0.7400\n",
            "Epoch 98/150\n",
            "469/469 [==============================] - 1s 3ms/step - loss: 0.0493 - accuracy: 0.7419\n",
            "Epoch 99/150\n",
            "469/469 [==============================] - 1s 3ms/step - loss: 0.0489 - accuracy: 0.7447\n",
            "Epoch 100/150\n",
            "469/469 [==============================] - 1s 3ms/step - loss: 0.0486 - accuracy: 0.7470\n",
            "Epoch 101/150\n",
            "469/469 [==============================] - 1s 3ms/step - loss: 0.0482 - accuracy: 0.7494\n",
            "Epoch 102/150\n",
            "469/469 [==============================] - 1s 3ms/step - loss: 0.0479 - accuracy: 0.7519\n",
            "Epoch 103/150\n",
            "469/469 [==============================] - 1s 3ms/step - loss: 0.0476 - accuracy: 0.7537\n",
            "Epoch 104/150\n",
            "469/469 [==============================] - 1s 3ms/step - loss: 0.0472 - accuracy: 0.7552\n",
            "Epoch 105/150\n",
            "469/469 [==============================] - 1s 3ms/step - loss: 0.0469 - accuracy: 0.7576\n",
            "Epoch 106/150\n",
            "469/469 [==============================] - 1s 3ms/step - loss: 0.0466 - accuracy: 0.7586\n",
            "Epoch 107/150\n",
            "469/469 [==============================] - 1s 3ms/step - loss: 0.0463 - accuracy: 0.7603\n",
            "Epoch 108/150\n",
            "469/469 [==============================] - 1s 3ms/step - loss: 0.0460 - accuracy: 0.7620\n",
            "Epoch 109/150\n",
            "469/469 [==============================] - 1s 3ms/step - loss: 0.0457 - accuracy: 0.7639\n",
            "Epoch 110/150\n",
            "469/469 [==============================] - 1s 3ms/step - loss: 0.0454 - accuracy: 0.7658\n",
            "Epoch 111/150\n",
            "469/469 [==============================] - 1s 3ms/step - loss: 0.0451 - accuracy: 0.7668\n",
            "Epoch 112/150\n",
            "469/469 [==============================] - 1s 3ms/step - loss: 0.0448 - accuracy: 0.7686\n",
            "Epoch 113/150\n",
            "469/469 [==============================] - 1s 3ms/step - loss: 0.0445 - accuracy: 0.7695\n",
            "Epoch 114/150\n",
            "469/469 [==============================] - 1s 3ms/step - loss: 0.0442 - accuracy: 0.7705\n",
            "Epoch 115/150\n",
            "469/469 [==============================] - 1s 3ms/step - loss: 0.0439 - accuracy: 0.7720\n",
            "Epoch 116/150\n",
            "469/469 [==============================] - 1s 3ms/step - loss: 0.0436 - accuracy: 0.7727\n",
            "Epoch 117/150\n",
            "469/469 [==============================] - 1s 3ms/step - loss: 0.0434 - accuracy: 0.7736\n",
            "Epoch 118/150\n",
            "469/469 [==============================] - 1s 3ms/step - loss: 0.0431 - accuracy: 0.7746\n",
            "Epoch 119/150\n",
            "469/469 [==============================] - 1s 3ms/step - loss: 0.0428 - accuracy: 0.7754\n",
            "Epoch 120/150\n",
            "469/469 [==============================] - 1s 3ms/step - loss: 0.0426 - accuracy: 0.7762\n",
            "Epoch 121/150\n",
            "469/469 [==============================] - 1s 3ms/step - loss: 0.0423 - accuracy: 0.7772\n",
            "Epoch 122/150\n",
            "469/469 [==============================] - 1s 3ms/step - loss: 0.0421 - accuracy: 0.7779\n",
            "Epoch 123/150\n",
            "469/469 [==============================] - 1s 3ms/step - loss: 0.0418 - accuracy: 0.7787\n",
            "Epoch 124/150\n",
            "469/469 [==============================] - 1s 3ms/step - loss: 0.0416 - accuracy: 0.7793\n",
            "Epoch 125/150\n",
            "469/469 [==============================] - 1s 3ms/step - loss: 0.0413 - accuracy: 0.7800\n",
            "Epoch 126/150\n",
            "469/469 [==============================] - 1s 3ms/step - loss: 0.0411 - accuracy: 0.7806\n",
            "Epoch 127/150\n",
            "469/469 [==============================] - 1s 3ms/step - loss: 0.0409 - accuracy: 0.7813\n",
            "Epoch 128/150\n",
            "469/469 [==============================] - 1s 3ms/step - loss: 0.0406 - accuracy: 0.7820\n",
            "Epoch 129/150\n",
            "469/469 [==============================] - 1s 3ms/step - loss: 0.0404 - accuracy: 0.7828\n",
            "Epoch 130/150\n",
            "469/469 [==============================] - 1s 3ms/step - loss: 0.0402 - accuracy: 0.7832\n",
            "Epoch 131/150\n",
            "469/469 [==============================] - 1s 3ms/step - loss: 0.0399 - accuracy: 0.7836\n",
            "Epoch 132/150\n",
            "469/469 [==============================] - 1s 3ms/step - loss: 0.0397 - accuracy: 0.7843\n",
            "Epoch 133/150\n",
            "469/469 [==============================] - 1s 3ms/step - loss: 0.0395 - accuracy: 0.7847\n",
            "Epoch 134/150\n",
            "469/469 [==============================] - 1s 3ms/step - loss: 0.0393 - accuracy: 0.7851\n",
            "Epoch 135/150\n",
            "469/469 [==============================] - 1s 3ms/step - loss: 0.0391 - accuracy: 0.7855\n",
            "Epoch 136/150\n",
            "469/469 [==============================] - 1s 3ms/step - loss: 0.0389 - accuracy: 0.7861\n",
            "Epoch 137/150\n",
            "469/469 [==============================] - 1s 3ms/step - loss: 0.0386 - accuracy: 0.7867\n",
            "Epoch 138/150\n",
            "469/469 [==============================] - 1s 3ms/step - loss: 0.0384 - accuracy: 0.7874\n",
            "Epoch 139/150\n",
            "469/469 [==============================] - 1s 3ms/step - loss: 0.0382 - accuracy: 0.7881\n",
            "Epoch 140/150\n",
            "469/469 [==============================] - 1s 3ms/step - loss: 0.0380 - accuracy: 0.7891\n",
            "Epoch 141/150\n",
            "469/469 [==============================] - 1s 3ms/step - loss: 0.0378 - accuracy: 0.7899\n",
            "Epoch 142/150\n",
            "469/469 [==============================] - 1s 3ms/step - loss: 0.0376 - accuracy: 0.7905\n",
            "Epoch 143/150\n",
            "469/469 [==============================] - 1s 3ms/step - loss: 0.0374 - accuracy: 0.7915\n",
            "Epoch 144/150\n",
            "469/469 [==============================] - 1s 3ms/step - loss: 0.0372 - accuracy: 0.7924\n",
            "Epoch 145/150\n",
            "469/469 [==============================] - 1s 3ms/step - loss: 0.0370 - accuracy: 0.7936\n",
            "Epoch 146/150\n",
            "469/469 [==============================] - 1s 3ms/step - loss: 0.0368 - accuracy: 0.7946\n",
            "Epoch 147/150\n",
            "469/469 [==============================] - 1s 3ms/step - loss: 0.0367 - accuracy: 0.7957\n",
            "Epoch 148/150\n",
            "469/469 [==============================] - 1s 3ms/step - loss: 0.0365 - accuracy: 0.7968\n",
            "Epoch 149/150\n",
            "469/469 [==============================] - 1s 3ms/step - loss: 0.0363 - accuracy: 0.7982\n",
            "Epoch 150/150\n",
            "469/469 [==============================] - 1s 3ms/step - loss: 0.0361 - accuracy: 0.7994\n"
          ]
        }
      ]
    }
  ]
}